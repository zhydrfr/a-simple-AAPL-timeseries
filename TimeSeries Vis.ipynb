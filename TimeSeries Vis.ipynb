{
 "cells": [
  {
   "cell_type": "code",
   "execution_count": 1,
   "metadata": {},
   "outputs": [],
   "source": [
    "import pandas as pd\n",
    "import numpy as np\n",
    "import matplotlib.pyplot as plt"
   ]
  },
  {
   "cell_type": "code",
   "execution_count": 3,
   "metadata": {},
   "outputs": [
    {
     "data": {
      "text/html": [
       "<div>\n",
       "<style scoped>\n",
       "    .dataframe tbody tr th:only-of-type {\n",
       "        vertical-align: middle;\n",
       "    }\n",
       "\n",
       "    .dataframe tbody tr th {\n",
       "        vertical-align: top;\n",
       "    }\n",
       "\n",
       "    .dataframe thead th {\n",
       "        text-align: right;\n",
       "    }\n",
       "</style>\n",
       "<table border=\"1\" class=\"dataframe\">\n",
       "  <thead>\n",
       "    <tr style=\"text-align: right;\">\n",
       "      <th></th>\n",
       "      <th>Date</th>\n",
       "      <th>Open</th>\n",
       "      <th>High</th>\n",
       "      <th>Low</th>\n",
       "      <th>Close</th>\n",
       "      <th>Adj Close</th>\n",
       "      <th>Volume</th>\n",
       "    </tr>\n",
       "  </thead>\n",
       "  <tbody>\n",
       "    <tr>\n",
       "      <th>0</th>\n",
       "      <td>2013-12-10</td>\n",
       "      <td>80.511429</td>\n",
       "      <td>81.125717</td>\n",
       "      <td>80.171425</td>\n",
       "      <td>80.792854</td>\n",
       "      <td>72.205704</td>\n",
       "      <td>69567400</td>\n",
       "    </tr>\n",
       "    <tr>\n",
       "      <th>1</th>\n",
       "      <td>2013-12-11</td>\n",
       "      <td>81.000000</td>\n",
       "      <td>81.567146</td>\n",
       "      <td>79.955711</td>\n",
       "      <td>80.194283</td>\n",
       "      <td>71.670746</td>\n",
       "      <td>89929700</td>\n",
       "    </tr>\n",
       "    <tr>\n",
       "      <th>2</th>\n",
       "      <td>2013-12-12</td>\n",
       "      <td>80.305717</td>\n",
       "      <td>80.762856</td>\n",
       "      <td>80.004288</td>\n",
       "      <td>80.077141</td>\n",
       "      <td>71.566086</td>\n",
       "      <td>65572500</td>\n",
       "    </tr>\n",
       "    <tr>\n",
       "      <th>3</th>\n",
       "      <td>2013-12-13</td>\n",
       "      <td>80.407143</td>\n",
       "      <td>80.411430</td>\n",
       "      <td>79.095711</td>\n",
       "      <td>79.204285</td>\n",
       "      <td>70.785973</td>\n",
       "      <td>83205500</td>\n",
       "    </tr>\n",
       "    <tr>\n",
       "      <th>4</th>\n",
       "      <td>2013-12-16</td>\n",
       "      <td>79.288574</td>\n",
       "      <td>80.377144</td>\n",
       "      <td>79.287140</td>\n",
       "      <td>79.642860</td>\n",
       "      <td>71.177933</td>\n",
       "      <td>70648200</td>\n",
       "    </tr>\n",
       "    <tr>\n",
       "      <th>...</th>\n",
       "      <td>...</td>\n",
       "      <td>...</td>\n",
       "      <td>...</td>\n",
       "      <td>...</td>\n",
       "      <td>...</td>\n",
       "      <td>...</td>\n",
       "      <td>...</td>\n",
       "    </tr>\n",
       "    <tr>\n",
       "      <th>1254</th>\n",
       "      <td>2018-12-03</td>\n",
       "      <td>184.460007</td>\n",
       "      <td>184.940002</td>\n",
       "      <td>181.210007</td>\n",
       "      <td>184.820007</td>\n",
       "      <td>180.836609</td>\n",
       "      <td>40802500</td>\n",
       "    </tr>\n",
       "    <tr>\n",
       "      <th>1255</th>\n",
       "      <td>2018-12-04</td>\n",
       "      <td>180.949997</td>\n",
       "      <td>182.389999</td>\n",
       "      <td>176.270004</td>\n",
       "      <td>176.690002</td>\n",
       "      <td>172.881836</td>\n",
       "      <td>41344300</td>\n",
       "    </tr>\n",
       "    <tr>\n",
       "      <th>1256</th>\n",
       "      <td>2018-12-06</td>\n",
       "      <td>171.759995</td>\n",
       "      <td>174.779999</td>\n",
       "      <td>170.419998</td>\n",
       "      <td>174.720001</td>\n",
       "      <td>170.954300</td>\n",
       "      <td>43098400</td>\n",
       "    </tr>\n",
       "    <tr>\n",
       "      <th>1257</th>\n",
       "      <td>2018-12-07</td>\n",
       "      <td>173.490005</td>\n",
       "      <td>174.490005</td>\n",
       "      <td>168.300003</td>\n",
       "      <td>168.490005</td>\n",
       "      <td>164.858582</td>\n",
       "      <td>42281600</td>\n",
       "    </tr>\n",
       "    <tr>\n",
       "      <th>1258</th>\n",
       "      <td>2018-12-10</td>\n",
       "      <td>165.000000</td>\n",
       "      <td>170.089996</td>\n",
       "      <td>163.330002</td>\n",
       "      <td>169.600006</td>\n",
       "      <td>165.944656</td>\n",
       "      <td>62026000</td>\n",
       "    </tr>\n",
       "  </tbody>\n",
       "</table>\n",
       "<p>1259 rows × 7 columns</p>\n",
       "</div>"
      ],
      "text/plain": [
       "            Date        Open        High         Low       Close   Adj Close  \\\n",
       "0     2013-12-10   80.511429   81.125717   80.171425   80.792854   72.205704   \n",
       "1     2013-12-11   81.000000   81.567146   79.955711   80.194283   71.670746   \n",
       "2     2013-12-12   80.305717   80.762856   80.004288   80.077141   71.566086   \n",
       "3     2013-12-13   80.407143   80.411430   79.095711   79.204285   70.785973   \n",
       "4     2013-12-16   79.288574   80.377144   79.287140   79.642860   71.177933   \n",
       "...          ...         ...         ...         ...         ...         ...   \n",
       "1254  2018-12-03  184.460007  184.940002  181.210007  184.820007  180.836609   \n",
       "1255  2018-12-04  180.949997  182.389999  176.270004  176.690002  172.881836   \n",
       "1256  2018-12-06  171.759995  174.779999  170.419998  174.720001  170.954300   \n",
       "1257  2018-12-07  173.490005  174.490005  168.300003  168.490005  164.858582   \n",
       "1258  2018-12-10  165.000000  170.089996  163.330002  169.600006  165.944656   \n",
       "\n",
       "        Volume  \n",
       "0     69567400  \n",
       "1     89929700  \n",
       "2     65572500  \n",
       "3     83205500  \n",
       "4     70648200  \n",
       "...        ...  \n",
       "1254  40802500  \n",
       "1255  41344300  \n",
       "1256  43098400  \n",
       "1257  42281600  \n",
       "1258  62026000  \n",
       "\n",
       "[1259 rows x 7 columns]"
      ]
     },
     "execution_count": 3,
     "metadata": {},
     "output_type": "execute_result"
    }
   ],
   "source": [
    "data = pd.read_csv(\"C:/Users/heyda/Desktop/7learn data science/AAPL.csv\")\n",
    "data"
   ]
  },
  {
   "cell_type": "code",
   "execution_count": 4,
   "metadata": {},
   "outputs": [
    {
     "data": {
      "text/html": [
       "<div>\n",
       "<style scoped>\n",
       "    .dataframe tbody tr th:only-of-type {\n",
       "        vertical-align: middle;\n",
       "    }\n",
       "\n",
       "    .dataframe tbody tr th {\n",
       "        vertical-align: top;\n",
       "    }\n",
       "\n",
       "    .dataframe thead th {\n",
       "        text-align: right;\n",
       "    }\n",
       "</style>\n",
       "<table border=\"1\" class=\"dataframe\">\n",
       "  <thead>\n",
       "    <tr style=\"text-align: right;\">\n",
       "      <th></th>\n",
       "      <th>Date</th>\n",
       "      <th>Open</th>\n",
       "      <th>High</th>\n",
       "      <th>Low</th>\n",
       "      <th>Close</th>\n",
       "      <th>Adj Close</th>\n",
       "      <th>Volume</th>\n",
       "    </tr>\n",
       "  </thead>\n",
       "  <tbody>\n",
       "    <tr>\n",
       "      <th>1254</th>\n",
       "      <td>2018-12-03</td>\n",
       "      <td>184.460007</td>\n",
       "      <td>184.940002</td>\n",
       "      <td>181.210007</td>\n",
       "      <td>184.820007</td>\n",
       "      <td>180.836609</td>\n",
       "      <td>40802500</td>\n",
       "    </tr>\n",
       "    <tr>\n",
       "      <th>1255</th>\n",
       "      <td>2018-12-04</td>\n",
       "      <td>180.949997</td>\n",
       "      <td>182.389999</td>\n",
       "      <td>176.270004</td>\n",
       "      <td>176.690002</td>\n",
       "      <td>172.881836</td>\n",
       "      <td>41344300</td>\n",
       "    </tr>\n",
       "    <tr>\n",
       "      <th>1256</th>\n",
       "      <td>2018-12-06</td>\n",
       "      <td>171.759995</td>\n",
       "      <td>174.779999</td>\n",
       "      <td>170.419998</td>\n",
       "      <td>174.720001</td>\n",
       "      <td>170.954300</td>\n",
       "      <td>43098400</td>\n",
       "    </tr>\n",
       "    <tr>\n",
       "      <th>1257</th>\n",
       "      <td>2018-12-07</td>\n",
       "      <td>173.490005</td>\n",
       "      <td>174.490005</td>\n",
       "      <td>168.300003</td>\n",
       "      <td>168.490005</td>\n",
       "      <td>164.858582</td>\n",
       "      <td>42281600</td>\n",
       "    </tr>\n",
       "    <tr>\n",
       "      <th>1258</th>\n",
       "      <td>2018-12-10</td>\n",
       "      <td>165.000000</td>\n",
       "      <td>170.089996</td>\n",
       "      <td>163.330002</td>\n",
       "      <td>169.600006</td>\n",
       "      <td>165.944656</td>\n",
       "      <td>62026000</td>\n",
       "    </tr>\n",
       "  </tbody>\n",
       "</table>\n",
       "</div>"
      ],
      "text/plain": [
       "            Date        Open        High         Low       Close   Adj Close  \\\n",
       "1254  2018-12-03  184.460007  184.940002  181.210007  184.820007  180.836609   \n",
       "1255  2018-12-04  180.949997  182.389999  176.270004  176.690002  172.881836   \n",
       "1256  2018-12-06  171.759995  174.779999  170.419998  174.720001  170.954300   \n",
       "1257  2018-12-07  173.490005  174.490005  168.300003  168.490005  164.858582   \n",
       "1258  2018-12-10  165.000000  170.089996  163.330002  169.600006  165.944656   \n",
       "\n",
       "        Volume  \n",
       "1254  40802500  \n",
       "1255  41344300  \n",
       "1256  43098400  \n",
       "1257  42281600  \n",
       "1258  62026000  "
      ]
     },
     "execution_count": 4,
     "metadata": {},
     "output_type": "execute_result"
    }
   ],
   "source": [
    "data.tail()"
   ]
  },
  {
   "cell_type": "code",
   "execution_count": 5,
   "metadata": {},
   "outputs": [
    {
     "name": "stdout",
     "output_type": "stream",
     "text": [
      "<class 'pandas.core.frame.DataFrame'>\n",
      "RangeIndex: 1259 entries, 0 to 1258\n",
      "Data columns (total 7 columns):\n",
      " #   Column     Non-Null Count  Dtype  \n",
      "---  ------     --------------  -----  \n",
      " 0   Date       1259 non-null   object \n",
      " 1   Open       1259 non-null   float64\n",
      " 2   High       1259 non-null   float64\n",
      " 3   Low        1259 non-null   float64\n",
      " 4   Close      1259 non-null   float64\n",
      " 5   Adj Close  1259 non-null   float64\n",
      " 6   Volume     1259 non-null   int64  \n",
      "dtypes: float64(5), int64(1), object(1)\n",
      "memory usage: 69.0+ KB\n"
     ]
    }
   ],
   "source": [
    "data.info()"
   ]
  },
  {
   "cell_type": "code",
   "execution_count": 6,
   "metadata": {},
   "outputs": [
    {
     "data": {
      "text/html": [
       "<div>\n",
       "<style scoped>\n",
       "    .dataframe tbody tr th:only-of-type {\n",
       "        vertical-align: middle;\n",
       "    }\n",
       "\n",
       "    .dataframe tbody tr th {\n",
       "        vertical-align: top;\n",
       "    }\n",
       "\n",
       "    .dataframe thead th {\n",
       "        text-align: right;\n",
       "    }\n",
       "</style>\n",
       "<table border=\"1\" class=\"dataframe\">\n",
       "  <thead>\n",
       "    <tr style=\"text-align: right;\">\n",
       "      <th></th>\n",
       "      <th>Open</th>\n",
       "      <th>High</th>\n",
       "      <th>Low</th>\n",
       "      <th>Close</th>\n",
       "      <th>Adj Close</th>\n",
       "      <th>Volume</th>\n",
       "    </tr>\n",
       "  </thead>\n",
       "  <tbody>\n",
       "    <tr>\n",
       "      <th>count</th>\n",
       "      <td>1259.000000</td>\n",
       "      <td>1259.000000</td>\n",
       "      <td>1259.000000</td>\n",
       "      <td>1259.000000</td>\n",
       "      <td>1259.000000</td>\n",
       "      <td>1.259000e+03</td>\n",
       "    </tr>\n",
       "    <tr>\n",
       "      <th>mean</th>\n",
       "      <td>130.280581</td>\n",
       "      <td>131.387004</td>\n",
       "      <td>129.160529</td>\n",
       "      <td>130.303043</td>\n",
       "      <td>122.971362</td>\n",
       "      <td>4.329180e+07</td>\n",
       "    </tr>\n",
       "    <tr>\n",
       "      <th>std</th>\n",
       "      <td>37.680103</td>\n",
       "      <td>38.018532</td>\n",
       "      <td>37.323462</td>\n",
       "      <td>37.674612</td>\n",
       "      <td>38.573628</td>\n",
       "      <td>2.399094e+07</td>\n",
       "    </tr>\n",
       "    <tr>\n",
       "      <th>min</th>\n",
       "      <td>70.739998</td>\n",
       "      <td>71.647141</td>\n",
       "      <td>70.507141</td>\n",
       "      <td>71.397141</td>\n",
       "      <td>63.808632</td>\n",
       "      <td>1.147590e+07</td>\n",
       "    </tr>\n",
       "    <tr>\n",
       "      <th>25%</th>\n",
       "      <td>101.689999</td>\n",
       "      <td>102.474998</td>\n",
       "      <td>100.779999</td>\n",
       "      <td>101.645001</td>\n",
       "      <td>93.823139</td>\n",
       "      <td>2.660710e+07</td>\n",
       "    </tr>\n",
       "    <tr>\n",
       "      <th>50%</th>\n",
       "      <td>118.050003</td>\n",
       "      <td>119.250000</td>\n",
       "      <td>117.129997</td>\n",
       "      <td>118.440002</td>\n",
       "      <td>110.468147</td>\n",
       "      <td>3.717350e+07</td>\n",
       "    </tr>\n",
       "    <tr>\n",
       "      <th>75%</th>\n",
       "      <td>157.065002</td>\n",
       "      <td>158.129998</td>\n",
       "      <td>155.855004</td>\n",
       "      <td>156.770004</td>\n",
       "      <td>150.822380</td>\n",
       "      <td>5.292720e+07</td>\n",
       "    </tr>\n",
       "    <tr>\n",
       "      <th>max</th>\n",
       "      <td>230.779999</td>\n",
       "      <td>233.470001</td>\n",
       "      <td>229.779999</td>\n",
       "      <td>232.070007</td>\n",
       "      <td>226.278717</td>\n",
       "      <td>2.663808e+08</td>\n",
       "    </tr>\n",
       "  </tbody>\n",
       "</table>\n",
       "</div>"
      ],
      "text/plain": [
       "              Open         High          Low        Close    Adj Close  \\\n",
       "count  1259.000000  1259.000000  1259.000000  1259.000000  1259.000000   \n",
       "mean    130.280581   131.387004   129.160529   130.303043   122.971362   \n",
       "std      37.680103    38.018532    37.323462    37.674612    38.573628   \n",
       "min      70.739998    71.647141    70.507141    71.397141    63.808632   \n",
       "25%     101.689999   102.474998   100.779999   101.645001    93.823139   \n",
       "50%     118.050003   119.250000   117.129997   118.440002   110.468147   \n",
       "75%     157.065002   158.129998   155.855004   156.770004   150.822380   \n",
       "max     230.779999   233.470001   229.779999   232.070007   226.278717   \n",
       "\n",
       "             Volume  \n",
       "count  1.259000e+03  \n",
       "mean   4.329180e+07  \n",
       "std    2.399094e+07  \n",
       "min    1.147590e+07  \n",
       "25%    2.660710e+07  \n",
       "50%    3.717350e+07  \n",
       "75%    5.292720e+07  \n",
       "max    2.663808e+08  "
      ]
     },
     "execution_count": 6,
     "metadata": {},
     "output_type": "execute_result"
    }
   ],
   "source": [
    "data.describe()"
   ]
  },
  {
   "cell_type": "code",
   "execution_count": 8,
   "metadata": {},
   "outputs": [],
   "source": [
    "data['Date'] = data['Date'].apply(pd.to_datetime)"
   ]
  },
  {
   "cell_type": "code",
   "execution_count": 9,
   "metadata": {},
   "outputs": [
    {
     "data": {
      "text/plain": [
       "0      2013-12-10\n",
       "1      2013-12-11\n",
       "2      2013-12-12\n",
       "3      2013-12-13\n",
       "4      2013-12-16\n",
       "          ...    \n",
       "1254   2018-12-03\n",
       "1255   2018-12-04\n",
       "1256   2018-12-06\n",
       "1257   2018-12-07\n",
       "1258   2018-12-10\n",
       "Name: Date, Length: 1259, dtype: datetime64[ns]"
      ]
     },
     "execution_count": 9,
     "metadata": {},
     "output_type": "execute_result"
    }
   ],
   "source": [
    "data['Date']"
   ]
  },
  {
   "cell_type": "code",
   "execution_count": 10,
   "metadata": {},
   "outputs": [
    {
     "data": {
      "text/plain": [
       "Timestamp('2013-12-10 00:00:00')"
      ]
     },
     "execution_count": 10,
     "metadata": {},
     "output_type": "execute_result"
    }
   ],
   "source": [
    "pd.to_datetime('2013-12-10')"
   ]
  },
  {
   "cell_type": "code",
   "execution_count": 11,
   "metadata": {},
   "outputs": [
    {
     "name": "stdout",
     "output_type": "stream",
     "text": [
      "<class 'pandas.core.frame.DataFrame'>\n",
      "RangeIndex: 1259 entries, 0 to 1258\n",
      "Data columns (total 7 columns):\n",
      " #   Column     Non-Null Count  Dtype         \n",
      "---  ------     --------------  -----         \n",
      " 0   Date       1259 non-null   datetime64[ns]\n",
      " 1   Open       1259 non-null   float64       \n",
      " 2   High       1259 non-null   float64       \n",
      " 3   Low        1259 non-null   float64       \n",
      " 4   Close      1259 non-null   float64       \n",
      " 5   Adj Close  1259 non-null   float64       \n",
      " 6   Volume     1259 non-null   int64         \n",
      "dtypes: datetime64[ns](1), float64(5), int64(1)\n",
      "memory usage: 69.0 KB\n"
     ]
    }
   ],
   "source": [
    "data.info()"
   ]
  },
  {
   "cell_type": "code",
   "execution_count": 12,
   "metadata": {},
   "outputs": [],
   "source": [
    "data.set_index('Date', inplace= True)"
   ]
  },
  {
   "cell_type": "code",
   "execution_count": 13,
   "metadata": {},
   "outputs": [
    {
     "data": {
      "text/html": [
       "<div>\n",
       "<style scoped>\n",
       "    .dataframe tbody tr th:only-of-type {\n",
       "        vertical-align: middle;\n",
       "    }\n",
       "\n",
       "    .dataframe tbody tr th {\n",
       "        vertical-align: top;\n",
       "    }\n",
       "\n",
       "    .dataframe thead th {\n",
       "        text-align: right;\n",
       "    }\n",
       "</style>\n",
       "<table border=\"1\" class=\"dataframe\">\n",
       "  <thead>\n",
       "    <tr style=\"text-align: right;\">\n",
       "      <th></th>\n",
       "      <th>Open</th>\n",
       "      <th>High</th>\n",
       "      <th>Low</th>\n",
       "      <th>Close</th>\n",
       "      <th>Adj Close</th>\n",
       "      <th>Volume</th>\n",
       "    </tr>\n",
       "    <tr>\n",
       "      <th>Date</th>\n",
       "      <th></th>\n",
       "      <th></th>\n",
       "      <th></th>\n",
       "      <th></th>\n",
       "      <th></th>\n",
       "      <th></th>\n",
       "    </tr>\n",
       "  </thead>\n",
       "  <tbody>\n",
       "    <tr>\n",
       "      <th>2013-12-10</th>\n",
       "      <td>80.511429</td>\n",
       "      <td>81.125717</td>\n",
       "      <td>80.171425</td>\n",
       "      <td>80.792854</td>\n",
       "      <td>72.205704</td>\n",
       "      <td>69567400</td>\n",
       "    </tr>\n",
       "    <tr>\n",
       "      <th>2013-12-11</th>\n",
       "      <td>81.000000</td>\n",
       "      <td>81.567146</td>\n",
       "      <td>79.955711</td>\n",
       "      <td>80.194283</td>\n",
       "      <td>71.670746</td>\n",
       "      <td>89929700</td>\n",
       "    </tr>\n",
       "    <tr>\n",
       "      <th>2013-12-12</th>\n",
       "      <td>80.305717</td>\n",
       "      <td>80.762856</td>\n",
       "      <td>80.004288</td>\n",
       "      <td>80.077141</td>\n",
       "      <td>71.566086</td>\n",
       "      <td>65572500</td>\n",
       "    </tr>\n",
       "    <tr>\n",
       "      <th>2013-12-13</th>\n",
       "      <td>80.407143</td>\n",
       "      <td>80.411430</td>\n",
       "      <td>79.095711</td>\n",
       "      <td>79.204285</td>\n",
       "      <td>70.785973</td>\n",
       "      <td>83205500</td>\n",
       "    </tr>\n",
       "    <tr>\n",
       "      <th>2013-12-16</th>\n",
       "      <td>79.288574</td>\n",
       "      <td>80.377144</td>\n",
       "      <td>79.287140</td>\n",
       "      <td>79.642860</td>\n",
       "      <td>71.177933</td>\n",
       "      <td>70648200</td>\n",
       "    </tr>\n",
       "  </tbody>\n",
       "</table>\n",
       "</div>"
      ],
      "text/plain": [
       "                 Open       High        Low      Close  Adj Close    Volume\n",
       "Date                                                                       \n",
       "2013-12-10  80.511429  81.125717  80.171425  80.792854  72.205704  69567400\n",
       "2013-12-11  81.000000  81.567146  79.955711  80.194283  71.670746  89929700\n",
       "2013-12-12  80.305717  80.762856  80.004288  80.077141  71.566086  65572500\n",
       "2013-12-13  80.407143  80.411430  79.095711  79.204285  70.785973  83205500\n",
       "2013-12-16  79.288574  80.377144  79.287140  79.642860  71.177933  70648200"
      ]
     },
     "execution_count": 13,
     "metadata": {},
     "output_type": "execute_result"
    }
   ],
   "source": [
    "data.head()"
   ]
  },
  {
   "cell_type": "code",
   "execution_count": 14,
   "metadata": {},
   "outputs": [
    {
     "data": {
      "text/plain": [
       "<matplotlib.axes._subplots.AxesSubplot at 0x1e28a65e4f0>"
      ]
     },
     "execution_count": 14,
     "metadata": {},
     "output_type": "execute_result"
    },
    {
     "data": {
      "image/png": "[encoded data removed]",
      "text/plain": [
       "<Figure size 432x288 with 1 Axes>"
      ]
     },
     "metadata": {
      "needs_background": "light"
     },
     "output_type": "display_data"
    }
   ],
   "source": [
    "data['Open'].plot()"
   ]
  },
  {
   "cell_type": "code",
   "execution_count": 15,
   "metadata": {},
   "outputs": [
    {
     "data": {
      "text/plain": [
       "<matplotlib.axes._subplots.AxesSubplot at 0x1e28add1c10>"
      ]
     },
     "execution_count": 15,
     "metadata": {},
     "output_type": "execute_result"
    },
    {
     "data": {
      "image/png": "[encoded data removed]",
      "text/plain": [
       "<Figure size 432x288 with 1 Axes>"
      ]
     },
     "metadata": {
      "needs_background": "light"
     },
     "output_type": "display_data"
    }
   ],
   "source": [
    "data['Close'].plot()"
   ]
  },
  {
   "cell_type": "code",
   "execution_count": 16,
   "metadata": {},
   "outputs": [
    {
     "data": {
      "text/plain": [
       "<matplotlib.axes._subplots.AxesSubplot at 0x1e28ae50d90>"
      ]
     },
     "execution_count": 16,
     "metadata": {},
     "output_type": "execute_result"
    },
    {
     "data": {
      "image/png": "[encoded data removed]",
      "text/plain": [
       "<Figure size 432x288 with 1 Axes>"
      ]
     },
     "metadata": {
      "needs_background": "light"
     },
     "output_type": "display_data"
    }
   ],
   "source": [
    "data['Volume'].plot()"
   ]
  },
  {
   "cell_type": "code",
   "execution_count": 17,
   "metadata": {},
   "outputs": [
    {
     "data": {
      "text/html": [
       "<div>\n",
       "<style scoped>\n",
       "    .dataframe tbody tr th:only-of-type {\n",
       "        vertical-align: middle;\n",
       "    }\n",
       "\n",
       "    .dataframe tbody tr th {\n",
       "        vertical-align: top;\n",
       "    }\n",
       "\n",
       "    .dataframe thead th {\n",
       "        text-align: right;\n",
       "    }\n",
       "</style>\n",
       "<table border=\"1\" class=\"dataframe\">\n",
       "  <thead>\n",
       "    <tr style=\"text-align: right;\">\n",
       "      <th></th>\n",
       "      <th>Open</th>\n",
       "      <th>High</th>\n",
       "      <th>Low</th>\n",
       "      <th>Close</th>\n",
       "      <th>Adj Close</th>\n",
       "      <th>Volume</th>\n",
       "    </tr>\n",
       "    <tr>\n",
       "      <th>Date</th>\n",
       "      <th></th>\n",
       "      <th></th>\n",
       "      <th></th>\n",
       "      <th></th>\n",
       "      <th></th>\n",
       "      <th></th>\n",
       "    </tr>\n",
       "  </thead>\n",
       "  <tbody>\n",
       "    <tr>\n",
       "      <th>2013-12-10</th>\n",
       "      <td>80.511429</td>\n",
       "      <td>81.125717</td>\n",
       "      <td>80.171425</td>\n",
       "      <td>80.792854</td>\n",
       "      <td>72.205704</td>\n",
       "      <td>69567400</td>\n",
       "    </tr>\n",
       "    <tr>\n",
       "      <th>2013-12-11</th>\n",
       "      <td>81.000000</td>\n",
       "      <td>81.567146</td>\n",
       "      <td>79.955711</td>\n",
       "      <td>80.194283</td>\n",
       "      <td>71.670746</td>\n",
       "      <td>89929700</td>\n",
       "    </tr>\n",
       "    <tr>\n",
       "      <th>2013-12-12</th>\n",
       "      <td>80.305717</td>\n",
       "      <td>80.762856</td>\n",
       "      <td>80.004288</td>\n",
       "      <td>80.077141</td>\n",
       "      <td>71.566086</td>\n",
       "      <td>65572500</td>\n",
       "    </tr>\n",
       "    <tr>\n",
       "      <th>2013-12-13</th>\n",
       "      <td>80.407143</td>\n",
       "      <td>80.411430</td>\n",
       "      <td>79.095711</td>\n",
       "      <td>79.204285</td>\n",
       "      <td>70.785973</td>\n",
       "      <td>83205500</td>\n",
       "    </tr>\n",
       "    <tr>\n",
       "      <th>2013-12-16</th>\n",
       "      <td>79.288574</td>\n",
       "      <td>80.377144</td>\n",
       "      <td>79.287140</td>\n",
       "      <td>79.642860</td>\n",
       "      <td>71.177933</td>\n",
       "      <td>70648200</td>\n",
       "    </tr>\n",
       "  </tbody>\n",
       "</table>\n",
       "</div>"
      ],
      "text/plain": [
       "                 Open       High        Low      Close  Adj Close    Volume\n",
       "Date                                                                       \n",
       "2013-12-10  80.511429  81.125717  80.171425  80.792854  72.205704  69567400\n",
       "2013-12-11  81.000000  81.567146  79.955711  80.194283  71.670746  89929700\n",
       "2013-12-12  80.305717  80.762856  80.004288  80.077141  71.566086  65572500\n",
       "2013-12-13  80.407143  80.411430  79.095711  79.204285  70.785973  83205500\n",
       "2013-12-16  79.288574  80.377144  79.287140  79.642860  71.177933  70648200"
      ]
     },
     "execution_count": 17,
     "metadata": {},
     "output_type": "execute_result"
    }
   ],
   "source": [
    "data.head()"
   ]
  },
  {
   "cell_type": "code",
   "execution_count": 19,
   "metadata": {},
   "outputs": [
    {
     "data": {
      "text/html": [
       "<div>\n",
       "<style scoped>\n",
       "    .dataframe tbody tr th:only-of-type {\n",
       "        vertical-align: middle;\n",
       "    }\n",
       "\n",
       "    .dataframe tbody tr th {\n",
       "        vertical-align: top;\n",
       "    }\n",
       "\n",
       "    .dataframe thead th {\n",
       "        text-align: right;\n",
       "    }\n",
       "</style>\n",
       "<table border=\"1\" class=\"dataframe\">\n",
       "  <thead>\n",
       "    <tr style=\"text-align: right;\">\n",
       "      <th></th>\n",
       "      <th>Open</th>\n",
       "      <th>High</th>\n",
       "      <th>Low</th>\n",
       "      <th>Close</th>\n",
       "      <th>Adj Close</th>\n",
       "      <th>Volume</th>\n",
       "    </tr>\n",
       "    <tr>\n",
       "      <th>Date</th>\n",
       "      <th></th>\n",
       "      <th></th>\n",
       "      <th></th>\n",
       "      <th></th>\n",
       "      <th></th>\n",
       "      <th></th>\n",
       "    </tr>\n",
       "  </thead>\n",
       "  <tbody>\n",
       "    <tr>\n",
       "      <th>2013-12-31</th>\n",
       "      <td>79.928287</td>\n",
       "      <td>80.381809</td>\n",
       "      <td>79.317333</td>\n",
       "      <td>79.770570</td>\n",
       "      <td>71.292083</td>\n",
       "      <td>7.739415e+07</td>\n",
       "    </tr>\n",
       "    <tr>\n",
       "      <th>2014-01-31</th>\n",
       "      <td>76.871566</td>\n",
       "      <td>77.549251</td>\n",
       "      <td>76.152245</td>\n",
       "      <td>76.777959</td>\n",
       "      <td>68.617546</td>\n",
       "      <td>1.043566e+08</td>\n",
       "    </tr>\n",
       "    <tr>\n",
       "      <th>2014-02-28</th>\n",
       "      <td>75.103007</td>\n",
       "      <td>75.824812</td>\n",
       "      <td>74.589474</td>\n",
       "      <td>75.225714</td>\n",
       "      <td>67.571447</td>\n",
       "      <td>7.737325e+07</td>\n",
       "    </tr>\n",
       "    <tr>\n",
       "      <th>2014-03-31</th>\n",
       "      <td>76.227619</td>\n",
       "      <td>76.636259</td>\n",
       "      <td>75.724421</td>\n",
       "      <td>76.173468</td>\n",
       "      <td>68.484793</td>\n",
       "      <td>5.954403e+07</td>\n",
       "    </tr>\n",
       "    <tr>\n",
       "      <th>2014-04-30</th>\n",
       "      <td>77.154558</td>\n",
       "      <td>77.764150</td>\n",
       "      <td>76.608911</td>\n",
       "      <td>77.296327</td>\n",
       "      <td>69.494316</td>\n",
       "      <td>7.660787e+07</td>\n",
       "    </tr>\n",
       "    <tr>\n",
       "      <th>...</th>\n",
       "      <td>...</td>\n",
       "      <td>...</td>\n",
       "      <td>...</td>\n",
       "      <td>...</td>\n",
       "      <td>...</td>\n",
       "      <td>...</td>\n",
       "    </tr>\n",
       "    <tr>\n",
       "      <th>2018-08-31</th>\n",
       "      <td>212.486957</td>\n",
       "      <td>214.561304</td>\n",
       "      <td>211.305652</td>\n",
       "      <td>213.346089</td>\n",
       "      <td>207.807349</td>\n",
       "      <td>3.044865e+07</td>\n",
       "    </tr>\n",
       "    <tr>\n",
       "      <th>2018-09-30</th>\n",
       "      <td>222.331053</td>\n",
       "      <td>224.530526</td>\n",
       "      <td>220.077895</td>\n",
       "      <td>222.073685</td>\n",
       "      <td>216.531868</td>\n",
       "      <td>3.573537e+07</td>\n",
       "    </tr>\n",
       "    <tr>\n",
       "      <th>2018-10-31</th>\n",
       "      <td>221.200001</td>\n",
       "      <td>223.940871</td>\n",
       "      <td>217.874347</td>\n",
       "      <td>220.845652</td>\n",
       "      <td>215.334475</td>\n",
       "      <td>3.433689e+07</td>\n",
       "    </tr>\n",
       "    <tr>\n",
       "      <th>2018-11-30</th>\n",
       "      <td>191.819523</td>\n",
       "      <td>193.949523</td>\n",
       "      <td>188.700475</td>\n",
       "      <td>191.235714</td>\n",
       "      <td>186.944749</td>\n",
       "      <td>4.577745e+07</td>\n",
       "    </tr>\n",
       "    <tr>\n",
       "      <th>2018-12-31</th>\n",
       "      <td>175.132001</td>\n",
       "      <td>177.338000</td>\n",
       "      <td>171.906003</td>\n",
       "      <td>174.864004</td>\n",
       "      <td>171.095197</td>\n",
       "      <td>4.591056e+07</td>\n",
       "    </tr>\n",
       "  </tbody>\n",
       "</table>\n",
       "<p>61 rows × 6 columns</p>\n",
       "</div>"
      ],
      "text/plain": [
       "                  Open        High         Low       Close   Adj Close  \\\n",
       "Date                                                                     \n",
       "2013-12-31   79.928287   80.381809   79.317333   79.770570   71.292083   \n",
       "2014-01-31   76.871566   77.549251   76.152245   76.777959   68.617546   \n",
       "2014-02-28   75.103007   75.824812   74.589474   75.225714   67.571447   \n",
       "2014-03-31   76.227619   76.636259   75.724421   76.173468   68.484793   \n",
       "2014-04-30   77.154558   77.764150   76.608911   77.296327   69.494316   \n",
       "...                ...         ...         ...         ...         ...   \n",
       "2018-08-31  212.486957  214.561304  211.305652  213.346089  207.807349   \n",
       "2018-09-30  222.331053  224.530526  220.077895  222.073685  216.531868   \n",
       "2018-10-31  221.200001  223.940871  217.874347  220.845652  215.334475   \n",
       "2018-11-30  191.819523  193.949523  188.700475  191.235714  186.944749   \n",
       "2018-12-31  175.132001  177.338000  171.906003  174.864004  171.095197   \n",
       "\n",
       "                  Volume  \n",
       "Date                      \n",
       "2013-12-31  7.739415e+07  \n",
       "2014-01-31  1.043566e+08  \n",
       "2014-02-28  7.737325e+07  \n",
       "2014-03-31  5.954403e+07  \n",
       "2014-04-30  7.660787e+07  \n",
       "...                  ...  \n",
       "2018-08-31  3.044865e+07  \n",
       "2018-09-30  3.573537e+07  \n",
       "2018-10-31  3.433689e+07  \n",
       "2018-11-30  4.577745e+07  \n",
       "2018-12-31  4.591056e+07  \n",
       "\n",
       "[61 rows x 6 columns]"
      ]
     },
     "execution_count": 19,
     "metadata": {},
     "output_type": "execute_result"
    }
   ],
   "source": [
    "# mean for Open for Months\n",
    "data.resample(rule = 'M').mean()   #pandas resample"
   ]
  },
  {
   "cell_type": "code",
   "execution_count": 21,
   "metadata": {},
   "outputs": [
    {
     "data": {
      "text/plain": [
       "<matplotlib.axes._subplots.AxesSubplot at 0x1e28aebc8b0>"
      ]
     },
     "execution_count": 21,
     "metadata": {},
     "output_type": "execute_result"
    },
    {
     "data": {
      "image/png": "[encoded data removed]",
      "text/plain": [
       "<Figure size 432x288 with 1 Axes>"
      ]
     },
     "metadata": {
      "needs_background": "light"
     },
     "output_type": "display_data"
    }
   ],
   "source": [
    "data.resample(rule = 'M').mean()['Open'].plot()"
   ]
  },
  {
   "cell_type": "code",
   "execution_count": 20,
   "metadata": {},
   "outputs": [
    {
     "data": {
      "text/html": [
       "<div>\n",
       "<style scoped>\n",
       "    .dataframe tbody tr th:only-of-type {\n",
       "        vertical-align: middle;\n",
       "    }\n",
       "\n",
       "    .dataframe tbody tr th {\n",
       "        vertical-align: top;\n",
       "    }\n",
       "\n",
       "    .dataframe thead th {\n",
       "        text-align: right;\n",
       "    }\n",
       "</style>\n",
       "<table border=\"1\" class=\"dataframe\">\n",
       "  <thead>\n",
       "    <tr style=\"text-align: right;\">\n",
       "      <th></th>\n",
       "      <th>Open</th>\n",
       "      <th>High</th>\n",
       "      <th>Low</th>\n",
       "      <th>Close</th>\n",
       "      <th>Adj Close</th>\n",
       "      <th>Volume</th>\n",
       "    </tr>\n",
       "    <tr>\n",
       "      <th>Date</th>\n",
       "      <th></th>\n",
       "      <th></th>\n",
       "      <th></th>\n",
       "      <th></th>\n",
       "      <th></th>\n",
       "      <th></th>\n",
       "    </tr>\n",
       "  </thead>\n",
       "  <tbody>\n",
       "    <tr>\n",
       "      <th>2013-12-31</th>\n",
       "      <td>77.918571</td>\n",
       "      <td>78.571426</td>\n",
       "      <td>76.971428</td>\n",
       "      <td>77.779999</td>\n",
       "      <td>69.513092</td>\n",
       "      <td>41888700</td>\n",
       "    </tr>\n",
       "    <tr>\n",
       "      <th>2014-01-31</th>\n",
       "      <td>70.739998</td>\n",
       "      <td>71.647141</td>\n",
       "      <td>70.507141</td>\n",
       "      <td>71.397141</td>\n",
       "      <td>63.808632</td>\n",
       "      <td>57319500</td>\n",
       "    </tr>\n",
       "    <tr>\n",
       "      <th>2014-02-28</th>\n",
       "      <td>71.801430</td>\n",
       "      <td>72.532860</td>\n",
       "      <td>71.328575</td>\n",
       "      <td>71.647141</td>\n",
       "      <td>64.032051</td>\n",
       "      <td>57988000</td>\n",
       "    </tr>\n",
       "    <tr>\n",
       "      <th>2014-03-31</th>\n",
       "      <td>74.774284</td>\n",
       "      <td>75.709999</td>\n",
       "      <td>74.687141</td>\n",
       "      <td>74.955711</td>\n",
       "      <td>67.389977</td>\n",
       "      <td>42167300</td>\n",
       "    </tr>\n",
       "    <tr>\n",
       "      <th>2014-04-30</th>\n",
       "      <td>74.007141</td>\n",
       "      <td>74.441429</td>\n",
       "      <td>73.047142</td>\n",
       "      <td>73.994286</td>\n",
       "      <td>66.525581</td>\n",
       "      <td>40586000</td>\n",
       "    </tr>\n",
       "    <tr>\n",
       "      <th>...</th>\n",
       "      <td>...</td>\n",
       "      <td>...</td>\n",
       "      <td>...</td>\n",
       "      <td>...</td>\n",
       "      <td>...</td>\n",
       "      <td>...</td>\n",
       "    </tr>\n",
       "    <tr>\n",
       "      <th>2018-08-31</th>\n",
       "      <td>199.130005</td>\n",
       "      <td>201.759995</td>\n",
       "      <td>197.309998</td>\n",
       "      <td>201.500000</td>\n",
       "      <td>195.784958</td>\n",
       "      <td>18476400</td>\n",
       "    </tr>\n",
       "    <tr>\n",
       "      <th>2018-09-30</th>\n",
       "      <td>216.820007</td>\n",
       "      <td>219.619995</td>\n",
       "      <td>215.300003</td>\n",
       "      <td>217.660004</td>\n",
       "      <td>212.228333</td>\n",
       "      <td>22929400</td>\n",
       "    </tr>\n",
       "    <tr>\n",
       "      <th>2018-10-31</th>\n",
       "      <td>211.149994</td>\n",
       "      <td>215.179993</td>\n",
       "      <td>206.089996</td>\n",
       "      <td>212.240005</td>\n",
       "      <td>206.943573</td>\n",
       "      <td>22885400</td>\n",
       "    </tr>\n",
       "    <tr>\n",
       "      <th>2018-11-30</th>\n",
       "      <td>171.509995</td>\n",
       "      <td>174.770004</td>\n",
       "      <td>170.259995</td>\n",
       "      <td>172.289993</td>\n",
       "      <td>168.576660</td>\n",
       "      <td>23624000</td>\n",
       "    </tr>\n",
       "    <tr>\n",
       "      <th>2018-12-31</th>\n",
       "      <td>165.000000</td>\n",
       "      <td>170.089996</td>\n",
       "      <td>163.330002</td>\n",
       "      <td>168.490005</td>\n",
       "      <td>164.858582</td>\n",
       "      <td>40802500</td>\n",
       "    </tr>\n",
       "  </tbody>\n",
       "</table>\n",
       "<p>61 rows × 6 columns</p>\n",
       "</div>"
      ],
      "text/plain": [
       "                  Open        High         Low       Close   Adj Close  \\\n",
       "Date                                                                     \n",
       "2013-12-31   77.918571   78.571426   76.971428   77.779999   69.513092   \n",
       "2014-01-31   70.739998   71.647141   70.507141   71.397141   63.808632   \n",
       "2014-02-28   71.801430   72.532860   71.328575   71.647141   64.032051   \n",
       "2014-03-31   74.774284   75.709999   74.687141   74.955711   67.389977   \n",
       "2014-04-30   74.007141   74.441429   73.047142   73.994286   66.525581   \n",
       "...                ...         ...         ...         ...         ...   \n",
       "2018-08-31  199.130005  201.759995  197.309998  201.500000  195.784958   \n",
       "2018-09-30  216.820007  219.619995  215.300003  217.660004  212.228333   \n",
       "2018-10-31  211.149994  215.179993  206.089996  212.240005  206.943573   \n",
       "2018-11-30  171.509995  174.770004  170.259995  172.289993  168.576660   \n",
       "2018-12-31  165.000000  170.089996  163.330002  168.490005  164.858582   \n",
       "\n",
       "              Volume  \n",
       "Date                  \n",
       "2013-12-31  41888700  \n",
       "2014-01-31  57319500  \n",
       "2014-02-28  57988000  \n",
       "2014-03-31  42167300  \n",
       "2014-04-30  40586000  \n",
       "...              ...  \n",
       "2018-08-31  18476400  \n",
       "2018-09-30  22929400  \n",
       "2018-10-31  22885400  \n",
       "2018-11-30  23624000  \n",
       "2018-12-31  40802500  \n",
       "\n",
       "[61 rows x 6 columns]"
      ]
     },
     "execution_count": 20,
     "metadata": {},
     "output_type": "execute_result"
    }
   ],
   "source": [
    "# min for Open for Months\n",
    "data.resample(rule = 'M').min()   #pandas resample"
   ]
  },
  {
   "cell_type": "code",
   "execution_count": 22,
   "metadata": {},
   "outputs": [
    {
     "data": {
      "text/plain": [
       "<matplotlib.axes._subplots.AxesSubplot at 0x1e28ae54d60>"
      ]
     },
     "execution_count": 22,
     "metadata": {},
     "output_type": "execute_result"
    },
    {
     "data": {
      "image/png": "[encoded data removed]",
      "text/plain": [
       "<Figure size 432x288 with 1 Axes>"
      ]
     },
     "metadata": {
      "needs_background": "light"
     },
     "output_type": "display_data"
    }
   ],
   "source": [
    "data.resample(rule = 'M').min()['Open'].plot()"
   ]
  },
  {
   "cell_type": "code",
   "execution_count": 24,
   "metadata": {},
   "outputs": [
    {
     "data": {
      "text/plain": [
       "<matplotlib.axes._subplots.AxesSubplot at 0x1e28b012550>"
      ]
     },
     "execution_count": 24,
     "metadata": {},
     "output_type": "execute_result"
    },
    {
     "data": {
      "image/png": "[encoded data removed]",
      "text/plain": [
       "<Figure size 432x288 with 1 Axes>"
      ]
     },
     "metadata": {
      "needs_background": "light"
     },
     "output_type": "display_data"
    }
   ],
   "source": [
    "# Annual\n",
    "data.resample(rule = 'A').mean()['Volume'].plot()"
   ]
  },
  {
   "cell_type": "code",
   "execution_count": 25,
   "metadata": {},
   "outputs": [
    {
     "data": {
      "text/plain": [
       "<matplotlib.axes._subplots.AxesSubplot at 0x1e28b024910>"
      ]
     },
     "execution_count": 25,
     "metadata": {},
     "output_type": "execute_result"
    },
    {
     "data": {
      "image/png": "[encoded data removed]",
      "text/plain": [
       "<Figure size 432x288 with 1 Axes>"
      ]
     },
     "metadata": {
      "needs_background": "light"
     },
     "output_type": "display_data"
    }
   ],
   "source": [
    "data.resample(rule = 'A').mean()['Open'].plot()"
   ]
  },
  {
   "cell_type": "code",
   "execution_count": 26,
   "metadata": {},
   "outputs": [
    {
     "data": {
      "text/plain": [
       "<matplotlib.axes._subplots.AxesSubplot at 0x1e28c084a00>"
      ]
     },
     "execution_count": 26,
     "metadata": {},
     "output_type": "execute_result"
    },
    {
     "data": {
      "image/png": "[encoded data removed]",
      "text/plain": [
       "<Figure size 432x288 with 1 Axes>"
      ]
     },
     "metadata": {
      "needs_background": "light"
     },
     "output_type": "display_data"
    }
   ],
   "source": [
    "# Quantile\n",
    "data.resample(rule = 'Q').mean()['Open'].plot()"
   ]
  },
  {
   "cell_type": "code",
   "execution_count": 27,
   "metadata": {},
   "outputs": [
    {
     "data": {
      "text/plain": [
       "<matplotlib.axes._subplots.AxesSubplot at 0x1e28c0d8b80>"
      ]
     },
     "execution_count": 27,
     "metadata": {},
     "output_type": "execute_result"
    },
    {
     "data": {
      "image/png": "[encoded data removed]",
      "text/plain": [
       "<Figure size 432x288 with 1 Axes>"
      ]
     },
     "metadata": {
      "needs_background": "light"
     },
     "output_type": "display_data"
    }
   ],
   "source": [
    "data.resample(rule = 'Q').mean()['Volume'].plot()"
   ]
  },
  {
   "cell_type": "code",
   "execution_count": 29,
   "metadata": {},
   "outputs": [
    {
     "data": {
      "text/plain": [
       "<matplotlib.axes._subplots.AxesSubplot at 0x1e28c161100>"
      ]
     },
     "execution_count": 29,
     "metadata": {},
     "output_type": "execute_result"
    },
    {
     "data": {
      "image/png": "[encoded data removed]",
      "text/plain": [
       "<Figure size 432x288 with 1 Axes>"
      ]
     },
     "metadata": {
      "needs_background": "light"
     },
     "output_type": "display_data"
    }
   ],
   "source": [
    "data.resample(rule = 'Q').mean()['Open'].plot(kind = 'bar')  # Mean of seasons Open price"
   ]
  },
  {
   "cell_type": "code",
   "execution_count": 30,
   "metadata": {},
   "outputs": [
    {
     "data": {
      "text/plain": [
       "<matplotlib.axes._subplots.AxesSubplot at 0x1e28c216190>"
      ]
     },
     "execution_count": 30,
     "metadata": {},
     "output_type": "execute_result"
    },
    {
     "data": {
      "image/png": "[encoded data removed]",
      "text/plain": [
       "<Figure size 432x288 with 1 Axes>"
      ]
     },
     "metadata": {
      "needs_background": "light"
     },
     "output_type": "display_data"
    }
   ],
   "source": [
    "data.resample(rule = 'Q').mean()['Volume'].plot(kind = 'bar')  # Mean of seasons Volume"
   ]
  },
  {
   "cell_type": "code",
   "execution_count": 31,
   "metadata": {},
   "outputs": [
    {
     "data": {
      "text/plain": [
       "<matplotlib.axes._subplots.AxesSubplot at 0x1e28c2ca700>"
      ]
     },
     "execution_count": 31,
     "metadata": {},
     "output_type": "execute_result"
    },
    {
     "data": {
      "image/png": "[encoded data removed]",
      "text/plain": [
       "<Figure size 432x288 with 1 Axes>"
      ]
     },
     "metadata": {
      "needs_background": "light"
     },
     "output_type": "display_data"
    }
   ],
   "source": [
    "data.resample(rule = 'Q').min()['Volume'].plot(kind = 'bar')  # Min of seasons Volume"
   ]
  },
  {
   "cell_type": "code",
   "execution_count": null,
   "metadata": {},
   "outputs": [],
   "source": []
  }
 ],
 "metadata": {
  "kernelspec": {
   "display_name": "Python 3",
   "language": "python",
   "name": "python3"
  },
  "language_info": {
   "codemirror_mode": {
    "name": "ipython",
    "version": 3
   },
   "file_extension": ".py",
   "mimetype": "text/x-python",
   "name": "python",
   "nbconvert_exporter": "python",
   "pygments_lexer": "ipython3",
   "version": "3.8.3"
  }
 },
 "nbformat": 4,
 "nbformat_minor": 4
}
